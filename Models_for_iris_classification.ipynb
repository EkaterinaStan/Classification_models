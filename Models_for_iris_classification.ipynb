{
 "cells": [
  {
   "cell_type": "code",
   "execution_count": 2,
   "id": "e570434c",
   "metadata": {},
   "outputs": [],
   "source": [
    "import numpy as np\n",
    "from matplotlib import pyplot as plt\n",
    "from sklearn.datasets import load_iris\n",
    "from sklearn.linear_model import LogisticRegression\n",
    "from sklearn.model_selection import train_test_split, GridSearchCV\n",
    "from sklearn.naive_bayes import GaussianNB\n",
    "from sklearn.decomposition import PCA\n",
    "from sklearn.metrics import accuracy_score, recall_score\n",
    "from sklearn.ensemble import RandomForestClassifier\n",
    "from sklearn.preprocessing import StandardScaler\n",
    "import pandas as pd\n",
    "import seaborn as sns\n",
    "from scipy import stats"
   ]
  },
  {
   "cell_type": "markdown",
   "id": "12b01669",
   "metadata": {},
   "source": [
    "# Загрузка данных"
   ]
  },
  {
   "cell_type": "markdown",
   "id": "6ca3614f",
   "metadata": {},
   "source": [
    "Загружаем набор данных по цветкам ириса, в нем три класса ириса, по 50 образцов каждый. Каждый образец описан 4 характеристиками: длина чашелистика, ширина чашелистика, длина лепестка, ширина лепестка. "
   ]
  },
  {
   "cell_type": "code",
   "execution_count": 3,
   "id": "cb7a7ed4",
   "metadata": {},
   "outputs": [],
   "source": [
    "iris = load_iris()"
   ]
  },
  {
   "cell_type": "code",
   "execution_count": 4,
   "id": "9eb74823",
   "metadata": {},
   "outputs": [
    {
     "name": "stdout",
     "output_type": "stream",
     "text": [
      ".. _iris_dataset:\n",
      "\n",
      "Iris plants dataset\n",
      "--------------------\n",
      "\n",
      "**Data Set Characteristics:**\n",
      "\n",
      ":Number of Instances: 150 (50 in each of three classes)\n",
      ":Number of Attributes: 4 numeric, predictive attributes and the class\n",
      ":Attribute Information:\n",
      "    - sepal length in cm\n",
      "    - sepal width in cm\n",
      "    - petal length in cm\n",
      "    - petal width in cm\n",
      "    - class:\n",
      "            - Iris-Setosa\n",
      "            - Iris-Versicolour\n",
      "            - Iris-Virginica\n",
      "\n",
      ":Summary Statistics:\n",
      "\n",
      "============== ==== ==== ======= ===== ====================\n",
      "                Min  Max   Mean    SD   Class Correlation\n",
      "============== ==== ==== ======= ===== ====================\n",
      "sepal length:   4.3  7.9   5.84   0.83    0.7826\n",
      "sepal width:    2.0  4.4   3.05   0.43   -0.4194\n",
      "petal length:   1.0  6.9   3.76   1.76    0.9490  (high!)\n",
      "petal width:    0.1  2.5   1.20   0.76    0.9565  (high!)\n",
      "============== ==== ==== ======= ===== ====================\n",
      "\n",
      ":Missing Attribute Values: None\n",
      ":Class Distribution: 33.3% for each of 3 classes.\n",
      ":Creator: R.A. Fisher\n",
      ":Donor: Michael Marshall (MARSHALL%PLU@io.arc.nasa.gov)\n",
      ":Date: July, 1988\n",
      "\n",
      "The famous Iris database, first used by Sir R.A. Fisher. The dataset is taken\n",
      "from Fisher's paper. Note that it's the same as in R, but not as in the UCI\n",
      "Machine Learning Repository, which has two wrong data points.\n",
      "\n",
      "This is perhaps the best known database to be found in the\n",
      "pattern recognition literature.  Fisher's paper is a classic in the field and\n",
      "is referenced frequently to this day.  (See Duda & Hart, for example.)  The\n",
      "data set contains 3 classes of 50 instances each, where each class refers to a\n",
      "type of iris plant.  One class is linearly separable from the other 2; the\n",
      "latter are NOT linearly separable from each other.\n",
      "\n",
      ".. dropdown:: References\n",
      "\n",
      "  - Fisher, R.A. \"The use of multiple measurements in taxonomic problems\"\n",
      "    Annual Eugenics, 7, Part II, 179-188 (1936); also in \"Contributions to\n",
      "    Mathematical Statistics\" (John Wiley, NY, 1950).\n",
      "  - Duda, R.O., & Hart, P.E. (1973) Pattern Classification and Scene Analysis.\n",
      "    (Q327.D83) John Wiley & Sons.  ISBN 0-471-22361-1.  See page 218.\n",
      "  - Dasarathy, B.V. (1980) \"Nosing Around the Neighborhood: A New System\n",
      "    Structure and Classification Rule for Recognition in Partially Exposed\n",
      "    Environments\".  IEEE Transactions on Pattern Analysis and Machine\n",
      "    Intelligence, Vol. PAMI-2, No. 1, 67-71.\n",
      "  - Gates, G.W. (1972) \"The Reduced Nearest Neighbor Rule\".  IEEE Transactions\n",
      "    on Information Theory, May 1972, 431-433.\n",
      "  - See also: 1988 MLC Proceedings, 54-64.  Cheeseman et al\"s AUTOCLASS II\n",
      "    conceptual clustering system finds 3 classes in the data.\n",
      "  - Many, many more ...\n",
      "\n"
     ]
    }
   ],
   "source": [
    "print(iris['DESCR'])"
   ]
  },
  {
   "cell_type": "markdown",
   "id": "168ac2f2",
   "metadata": {},
   "source": [
    "Исходный набор данных представляет из себя словарь, мы соберем из него небольшой датафрейм. Шаг не обязательный, но воспринимать данные приятнее."
   ]
  },
  {
   "cell_type": "code",
   "execution_count": 5,
   "id": "c811e820",
   "metadata": {},
   "outputs": [
    {
     "data": {
      "text/html": [
       "<div>\n",
       "<style scoped>\n",
       "    .dataframe tbody tr th:only-of-type {\n",
       "        vertical-align: middle;\n",
       "    }\n",
       "\n",
       "    .dataframe tbody tr th {\n",
       "        vertical-align: top;\n",
       "    }\n",
       "\n",
       "    .dataframe thead th {\n",
       "        text-align: right;\n",
       "    }\n",
       "</style>\n",
       "<table border=\"1\" class=\"dataframe\">\n",
       "  <thead>\n",
       "    <tr style=\"text-align: right;\">\n",
       "      <th></th>\n",
       "      <th>sepal_length</th>\n",
       "      <th>sepal_width</th>\n",
       "      <th>petal_length</th>\n",
       "      <th>petal_width</th>\n",
       "      <th>сlass</th>\n",
       "    </tr>\n",
       "  </thead>\n",
       "  <tbody>\n",
       "    <tr>\n",
       "      <th>0</th>\n",
       "      <td>5.1</td>\n",
       "      <td>3.5</td>\n",
       "      <td>1.4</td>\n",
       "      <td>0.2</td>\n",
       "      <td>0</td>\n",
       "    </tr>\n",
       "    <tr>\n",
       "      <th>1</th>\n",
       "      <td>4.9</td>\n",
       "      <td>3.0</td>\n",
       "      <td>1.4</td>\n",
       "      <td>0.2</td>\n",
       "      <td>0</td>\n",
       "    </tr>\n",
       "    <tr>\n",
       "      <th>2</th>\n",
       "      <td>4.7</td>\n",
       "      <td>3.2</td>\n",
       "      <td>1.3</td>\n",
       "      <td>0.2</td>\n",
       "      <td>0</td>\n",
       "    </tr>\n",
       "    <tr>\n",
       "      <th>3</th>\n",
       "      <td>4.6</td>\n",
       "      <td>3.1</td>\n",
       "      <td>1.5</td>\n",
       "      <td>0.2</td>\n",
       "      <td>0</td>\n",
       "    </tr>\n",
       "    <tr>\n",
       "      <th>4</th>\n",
       "      <td>5.0</td>\n",
       "      <td>3.6</td>\n",
       "      <td>1.4</td>\n",
       "      <td>0.2</td>\n",
       "      <td>0</td>\n",
       "    </tr>\n",
       "    <tr>\n",
       "      <th>...</th>\n",
       "      <td>...</td>\n",
       "      <td>...</td>\n",
       "      <td>...</td>\n",
       "      <td>...</td>\n",
       "      <td>...</td>\n",
       "    </tr>\n",
       "    <tr>\n",
       "      <th>145</th>\n",
       "      <td>6.7</td>\n",
       "      <td>3.0</td>\n",
       "      <td>5.2</td>\n",
       "      <td>2.3</td>\n",
       "      <td>2</td>\n",
       "    </tr>\n",
       "    <tr>\n",
       "      <th>146</th>\n",
       "      <td>6.3</td>\n",
       "      <td>2.5</td>\n",
       "      <td>5.0</td>\n",
       "      <td>1.9</td>\n",
       "      <td>2</td>\n",
       "    </tr>\n",
       "    <tr>\n",
       "      <th>147</th>\n",
       "      <td>6.5</td>\n",
       "      <td>3.0</td>\n",
       "      <td>5.2</td>\n",
       "      <td>2.0</td>\n",
       "      <td>2</td>\n",
       "    </tr>\n",
       "    <tr>\n",
       "      <th>148</th>\n",
       "      <td>6.2</td>\n",
       "      <td>3.4</td>\n",
       "      <td>5.4</td>\n",
       "      <td>2.3</td>\n",
       "      <td>2</td>\n",
       "    </tr>\n",
       "    <tr>\n",
       "      <th>149</th>\n",
       "      <td>5.9</td>\n",
       "      <td>3.0</td>\n",
       "      <td>5.1</td>\n",
       "      <td>1.8</td>\n",
       "      <td>2</td>\n",
       "    </tr>\n",
       "  </tbody>\n",
       "</table>\n",
       "<p>150 rows × 5 columns</p>\n",
       "</div>"
      ],
      "text/plain": [
       "     sepal_length  sepal_width  petal_length  petal_width  сlass\n",
       "0             5.1          3.5           1.4          0.2      0\n",
       "1             4.9          3.0           1.4          0.2      0\n",
       "2             4.7          3.2           1.3          0.2      0\n",
       "3             4.6          3.1           1.5          0.2      0\n",
       "4             5.0          3.6           1.4          0.2      0\n",
       "..            ...          ...           ...          ...    ...\n",
       "145           6.7          3.0           5.2          2.3      2\n",
       "146           6.3          2.5           5.0          1.9      2\n",
       "147           6.5          3.0           5.2          2.0      2\n",
       "148           6.2          3.4           5.4          2.3      2\n",
       "149           5.9          3.0           5.1          1.8      2\n",
       "\n",
       "[150 rows x 5 columns]"
      ]
     },
     "execution_count": 5,
     "metadata": {},
     "output_type": "execute_result"
    }
   ],
   "source": [
    "# создаем датафрейм с данными о цветках\n",
    "iris_df = pd.DataFrame(iris['data'], columns=['sepal_length', 'sepal_width', 'petal_length', 'petal_width'])\n",
    "# добавлем колонку с данными о принадлежности к тому или иному классу\n",
    "iris_df['сlass'] = iris['target']\n",
    "iris_df"
   ]
  },
  {
   "cell_type": "code",
   "execution_count": 6,
   "id": "c182af28",
   "metadata": {},
   "outputs": [
    {
     "data": {
      "text/html": [
       "<div>\n",
       "<style scoped>\n",
       "    .dataframe tbody tr th:only-of-type {\n",
       "        vertical-align: middle;\n",
       "    }\n",
       "\n",
       "    .dataframe tbody tr th {\n",
       "        vertical-align: top;\n",
       "    }\n",
       "\n",
       "    .dataframe thead th {\n",
       "        text-align: right;\n",
       "    }\n",
       "</style>\n",
       "<table border=\"1\" class=\"dataframe\">\n",
       "  <thead>\n",
       "    <tr style=\"text-align: right;\">\n",
       "      <th></th>\n",
       "      <th>sepal_length</th>\n",
       "      <th>sepal_width</th>\n",
       "      <th>petal_length</th>\n",
       "      <th>petal_width</th>\n",
       "      <th>сlass</th>\n",
       "      <th>class_name</th>\n",
       "    </tr>\n",
       "  </thead>\n",
       "  <tbody>\n",
       "    <tr>\n",
       "      <th>65</th>\n",
       "      <td>6.7</td>\n",
       "      <td>3.1</td>\n",
       "      <td>4.4</td>\n",
       "      <td>1.4</td>\n",
       "      <td>1</td>\n",
       "      <td>versicolor</td>\n",
       "    </tr>\n",
       "    <tr>\n",
       "      <th>149</th>\n",
       "      <td>5.9</td>\n",
       "      <td>3.0</td>\n",
       "      <td>5.1</td>\n",
       "      <td>1.8</td>\n",
       "      <td>2</td>\n",
       "      <td>virginica</td>\n",
       "    </tr>\n",
       "    <tr>\n",
       "      <th>126</th>\n",
       "      <td>6.2</td>\n",
       "      <td>2.8</td>\n",
       "      <td>4.8</td>\n",
       "      <td>1.8</td>\n",
       "      <td>2</td>\n",
       "      <td>virginica</td>\n",
       "    </tr>\n",
       "    <tr>\n",
       "      <th>60</th>\n",
       "      <td>5.0</td>\n",
       "      <td>2.0</td>\n",
       "      <td>3.5</td>\n",
       "      <td>1.0</td>\n",
       "      <td>1</td>\n",
       "      <td>versicolor</td>\n",
       "    </tr>\n",
       "    <tr>\n",
       "      <th>16</th>\n",
       "      <td>5.4</td>\n",
       "      <td>3.9</td>\n",
       "      <td>1.3</td>\n",
       "      <td>0.4</td>\n",
       "      <td>0</td>\n",
       "      <td>setosa</td>\n",
       "    </tr>\n",
       "    <tr>\n",
       "      <th>21</th>\n",
       "      <td>5.1</td>\n",
       "      <td>3.7</td>\n",
       "      <td>1.5</td>\n",
       "      <td>0.4</td>\n",
       "      <td>0</td>\n",
       "      <td>setosa</td>\n",
       "    </tr>\n",
       "    <tr>\n",
       "      <th>83</th>\n",
       "      <td>6.0</td>\n",
       "      <td>2.7</td>\n",
       "      <td>5.1</td>\n",
       "      <td>1.6</td>\n",
       "      <td>1</td>\n",
       "      <td>versicolor</td>\n",
       "    </tr>\n",
       "    <tr>\n",
       "      <th>81</th>\n",
       "      <td>5.5</td>\n",
       "      <td>2.4</td>\n",
       "      <td>3.7</td>\n",
       "      <td>1.0</td>\n",
       "      <td>1</td>\n",
       "      <td>versicolor</td>\n",
       "    </tr>\n",
       "    <tr>\n",
       "      <th>46</th>\n",
       "      <td>5.1</td>\n",
       "      <td>3.8</td>\n",
       "      <td>1.6</td>\n",
       "      <td>0.2</td>\n",
       "      <td>0</td>\n",
       "      <td>setosa</td>\n",
       "    </tr>\n",
       "    <tr>\n",
       "      <th>39</th>\n",
       "      <td>5.1</td>\n",
       "      <td>3.4</td>\n",
       "      <td>1.5</td>\n",
       "      <td>0.2</td>\n",
       "      <td>0</td>\n",
       "      <td>setosa</td>\n",
       "    </tr>\n",
       "  </tbody>\n",
       "</table>\n",
       "</div>"
      ],
      "text/plain": [
       "     sepal_length  sepal_width  petal_length  petal_width  сlass  class_name\n",
       "65            6.7          3.1           4.4          1.4      1  versicolor\n",
       "149           5.9          3.0           5.1          1.8      2   virginica\n",
       "126           6.2          2.8           4.8          1.8      2   virginica\n",
       "60            5.0          2.0           3.5          1.0      1  versicolor\n",
       "16            5.4          3.9           1.3          0.4      0      setosa\n",
       "21            5.1          3.7           1.5          0.4      0      setosa\n",
       "83            6.0          2.7           5.1          1.6      1  versicolor\n",
       "81            5.5          2.4           3.7          1.0      1  versicolor\n",
       "46            5.1          3.8           1.6          0.2      0      setosa\n",
       "39            5.1          3.4           1.5          0.2      0      setosa"
      ]
     },
     "execution_count": 6,
     "metadata": {},
     "output_type": "execute_result"
    }
   ],
   "source": [
    "# Добавим столбец с названием класса\n",
    "name_dict = {0: 'setosa',\n",
    "             1: 'versicolor',\n",
    "             2: 'virginica'}\n",
    "iris_df['class_name'] = iris_df.сlass.map(name_dict)\n",
    "iris_df.sample(10)"
   ]
  },
  {
   "cell_type": "code",
   "execution_count": 7,
   "id": "a93ce02e",
   "metadata": {},
   "outputs": [
    {
     "data": {
      "text/plain": [
       "sepal_length    0\n",
       "sepal_width     0\n",
       "petal_length    0\n",
       "petal_width     0\n",
       "сlass           0\n",
       "class_name      0\n",
       "dtype: int64"
      ]
     },
     "execution_count": 7,
     "metadata": {},
     "output_type": "execute_result"
    }
   ],
   "source": [
    "# Проверим, есть ли пропушенные значения\n",
    "iris_df.isna().sum()"
   ]
  },
  {
   "cell_type": "markdown",
   "id": "4df488cd",
   "metadata": {},
   "source": [
    "Посмотрим на распределения признаков и выведем минимальное, среднее и максмальное значение признаков для каждого вида ирисов"
   ]
  },
  {
   "cell_type": "code",
   "execution_count": 8,
   "id": "127a6b70",
   "metadata": {},
   "outputs": [
    {
     "data": {
      "text/plain": [
       "<Axes: xlabel='sepal_length', ylabel='Count'>"
      ]
     },
     "execution_count": 8,
     "metadata": {},
     "output_type": "execute_result"
    },
    {
     "data": {
      "image/png": "[encoded data removed]",
      "text/plain": [
       "<Figure size 640x480 with 1 Axes>"
      ]
     },
     "metadata": {},
     "output_type": "display_data"
    }
   ],
   "source": [
    "#Распределение длины чашелистика\n",
    "sns.histplot(data=iris_df, x='sepal_length', hue='class_name')"
   ]
  },
  {
   "cell_type": "code",
   "execution_count": 9,
   "id": "922b473d",
   "metadata": {},
   "outputs": [
    {
     "data": {
      "text/plain": [
       "<Axes: xlabel='sepal_width', ylabel='Count'>"
      ]
     },
     "execution_count": 9,
     "metadata": {},
     "output_type": "execute_result"
    },
    {
     "data": {
      "image/png": "[encoded data removed]",
      "text/plain": [
       "<Figure size 640x480 with 1 Axes>"
      ]
     },
     "metadata": {},
     "output_type": "display_data"
    }
   ],
   "source": [
    "#Распределение ширины чашелистика\n",
    "sns.histplot(data=iris_df, x='sepal_width', hue='class_name')"
   ]
  },
  {
   "cell_type": "code",
   "execution_count": 10,
   "id": "0b530792",
   "metadata": {},
   "outputs": [
    {
     "data": {
      "text/plain": [
       "<Axes: xlabel='petal_length', ylabel='Count'>"
      ]
     },
     "execution_count": 10,
     "metadata": {},
     "output_type": "execute_result"
    },
    {
     "data": {
      "image/png": "[encoded data removed]",
      "text/plain": [
       "<Figure size 640x480 with 1 Axes>"
      ]
     },
     "metadata": {},
     "output_type": "display_data"
    }
   ],
   "source": [
    "#Распределение длины лепестка\n",
    "sns.histplot(data=iris_df, x='petal_length', hue='class_name')"
   ]
  },
  {
   "cell_type": "code",
   "execution_count": 11,
   "id": "eb2127b3",
   "metadata": {},
   "outputs": [
    {
     "data": {
      "text/plain": [
       "<Axes: xlabel='petal_width', ylabel='Count'>"
      ]
     },
     "execution_count": 11,
     "metadata": {},
     "output_type": "execute_result"
    },
    {
     "data": {
      "image/png": "[encoded data removed]",
      "text/plain": [
       "<Figure size 640x480 with 1 Axes>"
      ]
     },
     "metadata": {},
     "output_type": "display_data"
    }
   ],
   "source": [
    "#Распределение ширины лепестка\n",
    "sns.histplot(data=iris_df, x='petal_width', hue='class_name')"
   ]
  },
  {
   "cell_type": "code",
   "execution_count": 12,
   "id": "f2490e2d",
   "metadata": {},
   "outputs": [
    {
     "data": {
      "text/html": [
       "<div>\n",
       "<style scoped>\n",
       "    .dataframe tbody tr th:only-of-type {\n",
       "        vertical-align: middle;\n",
       "    }\n",
       "\n",
       "    .dataframe tbody tr th {\n",
       "        vertical-align: top;\n",
       "    }\n",
       "\n",
       "    .dataframe thead tr th {\n",
       "        text-align: left;\n",
       "    }\n",
       "\n",
       "    .dataframe thead tr:last-of-type th {\n",
       "        text-align: right;\n",
       "    }\n",
       "</style>\n",
       "<table border=\"1\" class=\"dataframe\">\n",
       "  <thead>\n",
       "    <tr>\n",
       "      <th></th>\n",
       "      <th colspan=\"3\" halign=\"left\">sepal_length</th>\n",
       "      <th colspan=\"3\" halign=\"left\">sepal_width</th>\n",
       "      <th colspan=\"3\" halign=\"left\">petal_length</th>\n",
       "      <th colspan=\"3\" halign=\"left\">petal_width</th>\n",
       "    </tr>\n",
       "    <tr>\n",
       "      <th></th>\n",
       "      <th>min</th>\n",
       "      <th>max</th>\n",
       "      <th>mean</th>\n",
       "      <th>min</th>\n",
       "      <th>max</th>\n",
       "      <th>mean</th>\n",
       "      <th>min</th>\n",
       "      <th>max</th>\n",
       "      <th>mean</th>\n",
       "      <th>min</th>\n",
       "      <th>max</th>\n",
       "      <th>mean</th>\n",
       "    </tr>\n",
       "    <tr>\n",
       "      <th>class_name</th>\n",
       "      <th></th>\n",
       "      <th></th>\n",
       "      <th></th>\n",
       "      <th></th>\n",
       "      <th></th>\n",
       "      <th></th>\n",
       "      <th></th>\n",
       "      <th></th>\n",
       "      <th></th>\n",
       "      <th></th>\n",
       "      <th></th>\n",
       "      <th></th>\n",
       "    </tr>\n",
       "  </thead>\n",
       "  <tbody>\n",
       "    <tr>\n",
       "      <th>setosa</th>\n",
       "      <td>4.3</td>\n",
       "      <td>5.8</td>\n",
       "      <td>5.006</td>\n",
       "      <td>2.3</td>\n",
       "      <td>4.4</td>\n",
       "      <td>3.428</td>\n",
       "      <td>1.0</td>\n",
       "      <td>1.9</td>\n",
       "      <td>1.462</td>\n",
       "      <td>0.1</td>\n",
       "      <td>0.6</td>\n",
       "      <td>0.246</td>\n",
       "    </tr>\n",
       "    <tr>\n",
       "      <th>versicolor</th>\n",
       "      <td>4.9</td>\n",
       "      <td>7.0</td>\n",
       "      <td>5.936</td>\n",
       "      <td>2.0</td>\n",
       "      <td>3.4</td>\n",
       "      <td>2.770</td>\n",
       "      <td>3.0</td>\n",
       "      <td>5.1</td>\n",
       "      <td>4.260</td>\n",
       "      <td>1.0</td>\n",
       "      <td>1.8</td>\n",
       "      <td>1.326</td>\n",
       "    </tr>\n",
       "    <tr>\n",
       "      <th>virginica</th>\n",
       "      <td>4.9</td>\n",
       "      <td>7.9</td>\n",
       "      <td>6.588</td>\n",
       "      <td>2.2</td>\n",
       "      <td>3.8</td>\n",
       "      <td>2.974</td>\n",
       "      <td>4.5</td>\n",
       "      <td>6.9</td>\n",
       "      <td>5.552</td>\n",
       "      <td>1.4</td>\n",
       "      <td>2.5</td>\n",
       "      <td>2.026</td>\n",
       "    </tr>\n",
       "  </tbody>\n",
       "</table>\n",
       "</div>"
      ],
      "text/plain": [
       "           sepal_length             sepal_width             petal_length       \\\n",
       "                    min  max   mean         min  max   mean          min  max   \n",
       "class_name                                                                      \n",
       "setosa              4.3  5.8  5.006         2.3  4.4  3.428          1.0  1.9   \n",
       "versicolor          4.9  7.0  5.936         2.0  3.4  2.770          3.0  5.1   \n",
       "virginica           4.9  7.9  6.588         2.2  3.8  2.974          4.5  6.9   \n",
       "\n",
       "                  petal_width              \n",
       "             mean         min  max   mean  \n",
       "class_name                                 \n",
       "setosa      1.462         0.1  0.6  0.246  \n",
       "versicolor  4.260         1.0  1.8  1.326  \n",
       "virginica   5.552         1.4  2.5  2.026  "
      ]
     },
     "execution_count": 12,
     "metadata": {},
     "output_type": "execute_result"
    }
   ],
   "source": [
    "# Найдем максимальные, минимальные и средние значения показателей цветка в каждом классе\n",
    "iris_df.groupby('class_name').agg({\n",
    "    'sepal_length': ['min', 'max', 'mean'],\n",
    "    'sepal_width': ['min', 'max', 'mean'],\n",
    "    'petal_length': ['min', 'max', 'mean'],\n",
    "    'petal_width': ['min', 'max', 'mean']\n",
    "})"
   ]
  },
  {
   "cell_type": "code",
   "execution_count": 13,
   "id": "4d156c2a",
   "metadata": {},
   "outputs": [
    {
     "data": {
      "text/html": [
       "<style type=\"text/css\">\n",
       "#T_dd85c_row0_col0, #T_dd85c_row0_col1, #T_dd85c_row1_col0, #T_dd85c_row1_col1, #T_dd85c_row2_col2, #T_dd85c_row3_col3 {\n",
       "  background-color: yellow;\n",
       "}\n",
       "</style>\n",
       "<table id=\"T_dd85c\">\n",
       "  <thead>\n",
       "    <tr>\n",
       "      <th class=\"blank level0\" >&nbsp;</th>\n",
       "      <th id=\"T_dd85c_level0_col0\" class=\"col_heading level0 col0\" >sepal_length</th>\n",
       "      <th id=\"T_dd85c_level0_col1\" class=\"col_heading level0 col1\" >sepal_width</th>\n",
       "      <th id=\"T_dd85c_level0_col2\" class=\"col_heading level0 col2\" >petal_length</th>\n",
       "      <th id=\"T_dd85c_level0_col3\" class=\"col_heading level0 col3\" >petal_width</th>\n",
       "    </tr>\n",
       "  </thead>\n",
       "  <tbody>\n",
       "    <tr>\n",
       "      <th id=\"T_dd85c_level0_row0\" class=\"row_heading level0 row0\" >sepal_length</th>\n",
       "      <td id=\"T_dd85c_row0_col0\" class=\"data row0 col0\" >1.000000</td>\n",
       "      <td id=\"T_dd85c_row0_col1\" class=\"data row0 col1\" >0.742547</td>\n",
       "      <td id=\"T_dd85c_row0_col2\" class=\"data row0 col2\" >0.267176</td>\n",
       "      <td id=\"T_dd85c_row0_col3\" class=\"data row0 col3\" >0.278098</td>\n",
       "    </tr>\n",
       "    <tr>\n",
       "      <th id=\"T_dd85c_level0_row1\" class=\"row_heading level0 row1\" >sepal_width</th>\n",
       "      <td id=\"T_dd85c_row1_col0\" class=\"data row1 col0\" >0.742547</td>\n",
       "      <td id=\"T_dd85c_row1_col1\" class=\"data row1 col1\" >1.000000</td>\n",
       "      <td id=\"T_dd85c_row1_col2\" class=\"data row1 col2\" >0.177700</td>\n",
       "      <td id=\"T_dd85c_row1_col3\" class=\"data row1 col3\" >0.232752</td>\n",
       "    </tr>\n",
       "    <tr>\n",
       "      <th id=\"T_dd85c_level0_row2\" class=\"row_heading level0 row2\" >petal_length</th>\n",
       "      <td id=\"T_dd85c_row2_col0\" class=\"data row2 col0\" >0.267176</td>\n",
       "      <td id=\"T_dd85c_row2_col1\" class=\"data row2 col1\" >0.177700</td>\n",
       "      <td id=\"T_dd85c_row2_col2\" class=\"data row2 col2\" >1.000000</td>\n",
       "      <td id=\"T_dd85c_row2_col3\" class=\"data row2 col3\" >0.331630</td>\n",
       "    </tr>\n",
       "    <tr>\n",
       "      <th id=\"T_dd85c_level0_row3\" class=\"row_heading level0 row3\" >petal_width</th>\n",
       "      <td id=\"T_dd85c_row3_col0\" class=\"data row3 col0\" >0.278098</td>\n",
       "      <td id=\"T_dd85c_row3_col1\" class=\"data row3 col1\" >0.232752</td>\n",
       "      <td id=\"T_dd85c_row3_col2\" class=\"data row3 col2\" >0.331630</td>\n",
       "      <td id=\"T_dd85c_row3_col3\" class=\"data row3 col3\" >1.000000</td>\n",
       "    </tr>\n",
       "  </tbody>\n",
       "</table>\n"
      ],
      "text/plain": [
       "<pandas.io.formats.style.Styler at 0x16bfc8210>"
      ]
     },
     "execution_count": 13,
     "metadata": {},
     "output_type": "execute_result"
    }
   ],
   "source": [
    "# Функция для окраски ячеек\n",
    "def highlight_cells(val):\n",
    "    color = 'background-color: yellow' if (val > 0.7 or val < -0.7) else ''\n",
    "    return color\n",
    "\n",
    "# Проверим, являются ли параметры цветков линейно зависимыми для класса setosa\n",
    "iris_df.query('сlass == 0')[['sepal_length', 'sepal_width',\n",
    "                             'petal_length', 'petal_width']].corr().style.map(highlight_cells)"
   ]
  },
  {
   "cell_type": "code",
   "execution_count": 14,
   "id": "cdec1c38",
   "metadata": {},
   "outputs": [
    {
     "data": {
      "text/html": [
       "<style type=\"text/css\">\n",
       "#T_5b34d_row0_col0, #T_5b34d_row0_col2, #T_5b34d_row1_col1, #T_5b34d_row2_col0, #T_5b34d_row2_col2, #T_5b34d_row2_col3, #T_5b34d_row3_col2, #T_5b34d_row3_col3 {\n",
       "  background-color: yellow;\n",
       "}\n",
       "</style>\n",
       "<table id=\"T_5b34d\">\n",
       "  <thead>\n",
       "    <tr>\n",
       "      <th class=\"blank level0\" >&nbsp;</th>\n",
       "      <th id=\"T_5b34d_level0_col0\" class=\"col_heading level0 col0\" >sepal_length</th>\n",
       "      <th id=\"T_5b34d_level0_col1\" class=\"col_heading level0 col1\" >sepal_width</th>\n",
       "      <th id=\"T_5b34d_level0_col2\" class=\"col_heading level0 col2\" >petal_length</th>\n",
       "      <th id=\"T_5b34d_level0_col3\" class=\"col_heading level0 col3\" >petal_width</th>\n",
       "    </tr>\n",
       "  </thead>\n",
       "  <tbody>\n",
       "    <tr>\n",
       "      <th id=\"T_5b34d_level0_row0\" class=\"row_heading level0 row0\" >sepal_length</th>\n",
       "      <td id=\"T_5b34d_row0_col0\" class=\"data row0 col0\" >1.000000</td>\n",
       "      <td id=\"T_5b34d_row0_col1\" class=\"data row0 col1\" >0.525911</td>\n",
       "      <td id=\"T_5b34d_row0_col2\" class=\"data row0 col2\" >0.754049</td>\n",
       "      <td id=\"T_5b34d_row0_col3\" class=\"data row0 col3\" >0.546461</td>\n",
       "    </tr>\n",
       "    <tr>\n",
       "      <th id=\"T_5b34d_level0_row1\" class=\"row_heading level0 row1\" >sepal_width</th>\n",
       "      <td id=\"T_5b34d_row1_col0\" class=\"data row1 col0\" >0.525911</td>\n",
       "      <td id=\"T_5b34d_row1_col1\" class=\"data row1 col1\" >1.000000</td>\n",
       "      <td id=\"T_5b34d_row1_col2\" class=\"data row1 col2\" >0.560522</td>\n",
       "      <td id=\"T_5b34d_row1_col3\" class=\"data row1 col3\" >0.663999</td>\n",
       "    </tr>\n",
       "    <tr>\n",
       "      <th id=\"T_5b34d_level0_row2\" class=\"row_heading level0 row2\" >petal_length</th>\n",
       "      <td id=\"T_5b34d_row2_col0\" class=\"data row2 col0\" >0.754049</td>\n",
       "      <td id=\"T_5b34d_row2_col1\" class=\"data row2 col1\" >0.560522</td>\n",
       "      <td id=\"T_5b34d_row2_col2\" class=\"data row2 col2\" >1.000000</td>\n",
       "      <td id=\"T_5b34d_row2_col3\" class=\"data row2 col3\" >0.786668</td>\n",
       "    </tr>\n",
       "    <tr>\n",
       "      <th id=\"T_5b34d_level0_row3\" class=\"row_heading level0 row3\" >petal_width</th>\n",
       "      <td id=\"T_5b34d_row3_col0\" class=\"data row3 col0\" >0.546461</td>\n",
       "      <td id=\"T_5b34d_row3_col1\" class=\"data row3 col1\" >0.663999</td>\n",
       "      <td id=\"T_5b34d_row3_col2\" class=\"data row3 col2\" >0.786668</td>\n",
       "      <td id=\"T_5b34d_row3_col3\" class=\"data row3 col3\" >1.000000</td>\n",
       "    </tr>\n",
       "  </tbody>\n",
       "</table>\n"
      ],
      "text/plain": [
       "<pandas.io.formats.style.Styler at 0x16bd7b550>"
      ]
     },
     "execution_count": 14,
     "metadata": {},
     "output_type": "execute_result"
    }
   ],
   "source": [
    "# Проверим, являются ли параметры цветков линейно зависимыми для класса versicolor\n",
    "iris_df.query('сlass == 1')[['sepal_length', 'sepal_width',\n",
    "                             'petal_length', 'petal_width']].corr().style.map(highlight_cells)"
   ]
  },
  {
   "cell_type": "code",
   "execution_count": 15,
   "id": "e0f7a101",
   "metadata": {},
   "outputs": [
    {
     "data": {
      "text/html": [
       "<style type=\"text/css\">\n",
       "#T_f5ea4_row0_col0, #T_f5ea4_row0_col2, #T_f5ea4_row1_col1, #T_f5ea4_row2_col0, #T_f5ea4_row2_col2, #T_f5ea4_row3_col3 {\n",
       "  background-color: yellow;\n",
       "}\n",
       "</style>\n",
       "<table id=\"T_f5ea4\">\n",
       "  <thead>\n",
       "    <tr>\n",
       "      <th class=\"blank level0\" >&nbsp;</th>\n",
       "      <th id=\"T_f5ea4_level0_col0\" class=\"col_heading level0 col0\" >sepal_length</th>\n",
       "      <th id=\"T_f5ea4_level0_col1\" class=\"col_heading level0 col1\" >sepal_width</th>\n",
       "      <th id=\"T_f5ea4_level0_col2\" class=\"col_heading level0 col2\" >petal_length</th>\n",
       "      <th id=\"T_f5ea4_level0_col3\" class=\"col_heading level0 col3\" >petal_width</th>\n",
       "    </tr>\n",
       "  </thead>\n",
       "  <tbody>\n",
       "    <tr>\n",
       "      <th id=\"T_f5ea4_level0_row0\" class=\"row_heading level0 row0\" >sepal_length</th>\n",
       "      <td id=\"T_f5ea4_row0_col0\" class=\"data row0 col0\" >1.000000</td>\n",
       "      <td id=\"T_f5ea4_row0_col1\" class=\"data row0 col1\" >0.457228</td>\n",
       "      <td id=\"T_f5ea4_row0_col2\" class=\"data row0 col2\" >0.864225</td>\n",
       "      <td id=\"T_f5ea4_row0_col3\" class=\"data row0 col3\" >0.281108</td>\n",
       "    </tr>\n",
       "    <tr>\n",
       "      <th id=\"T_f5ea4_level0_row1\" class=\"row_heading level0 row1\" >sepal_width</th>\n",
       "      <td id=\"T_f5ea4_row1_col0\" class=\"data row1 col0\" >0.457228</td>\n",
       "      <td id=\"T_f5ea4_row1_col1\" class=\"data row1 col1\" >1.000000</td>\n",
       "      <td id=\"T_f5ea4_row1_col2\" class=\"data row1 col2\" >0.401045</td>\n",
       "      <td id=\"T_f5ea4_row1_col3\" class=\"data row1 col3\" >0.537728</td>\n",
       "    </tr>\n",
       "    <tr>\n",
       "      <th id=\"T_f5ea4_level0_row2\" class=\"row_heading level0 row2\" >petal_length</th>\n",
       "      <td id=\"T_f5ea4_row2_col0\" class=\"data row2 col0\" >0.864225</td>\n",
       "      <td id=\"T_f5ea4_row2_col1\" class=\"data row2 col1\" >0.401045</td>\n",
       "      <td id=\"T_f5ea4_row2_col2\" class=\"data row2 col2\" >1.000000</td>\n",
       "      <td id=\"T_f5ea4_row2_col3\" class=\"data row2 col3\" >0.322108</td>\n",
       "    </tr>\n",
       "    <tr>\n",
       "      <th id=\"T_f5ea4_level0_row3\" class=\"row_heading level0 row3\" >petal_width</th>\n",
       "      <td id=\"T_f5ea4_row3_col0\" class=\"data row3 col0\" >0.281108</td>\n",
       "      <td id=\"T_f5ea4_row3_col1\" class=\"data row3 col1\" >0.537728</td>\n",
       "      <td id=\"T_f5ea4_row3_col2\" class=\"data row3 col2\" >0.322108</td>\n",
       "      <td id=\"T_f5ea4_row3_col3\" class=\"data row3 col3\" >1.000000</td>\n",
       "    </tr>\n",
       "  </tbody>\n",
       "</table>\n"
      ],
      "text/plain": [
       "<pandas.io.formats.style.Styler at 0x16bf3f310>"
      ]
     },
     "execution_count": 15,
     "metadata": {},
     "output_type": "execute_result"
    }
   ],
   "source": [
    "# Проверим, являются ли параметры цветков линейно зависимыми для класса virginica\n",
    "iris_df.query('сlass == 2')[['sepal_length', 'sepal_width',\n",
    "                             'petal_length', 'petal_width']].corr().style.map(highlight_cells)"
   ]
  },
  {
   "cell_type": "code",
   "execution_count": 16,
   "id": "f1c6a3e7",
   "metadata": {},
   "outputs": [
    {
     "data": {
      "text/html": [
       "<style type=\"text/css\">\n",
       "#T_2a8ad_row0_col0, #T_2a8ad_row0_col2, #T_2a8ad_row0_col3, #T_2a8ad_row1_col1, #T_2a8ad_row2_col0, #T_2a8ad_row2_col2, #T_2a8ad_row2_col3, #T_2a8ad_row3_col0, #T_2a8ad_row3_col2, #T_2a8ad_row3_col3 {\n",
       "  background-color: yellow;\n",
       "}\n",
       "</style>\n",
       "<table id=\"T_2a8ad\">\n",
       "  <thead>\n",
       "    <tr>\n",
       "      <th class=\"blank level0\" >&nbsp;</th>\n",
       "      <th id=\"T_2a8ad_level0_col0\" class=\"col_heading level0 col0\" >sepal_length</th>\n",
       "      <th id=\"T_2a8ad_level0_col1\" class=\"col_heading level0 col1\" >sepal_width</th>\n",
       "      <th id=\"T_2a8ad_level0_col2\" class=\"col_heading level0 col2\" >petal_length</th>\n",
       "      <th id=\"T_2a8ad_level0_col3\" class=\"col_heading level0 col3\" >petal_width</th>\n",
       "    </tr>\n",
       "  </thead>\n",
       "  <tbody>\n",
       "    <tr>\n",
       "      <th id=\"T_2a8ad_level0_row0\" class=\"row_heading level0 row0\" >sepal_length</th>\n",
       "      <td id=\"T_2a8ad_row0_col0\" class=\"data row0 col0\" >1.000000</td>\n",
       "      <td id=\"T_2a8ad_row0_col1\" class=\"data row0 col1\" >-0.117570</td>\n",
       "      <td id=\"T_2a8ad_row0_col2\" class=\"data row0 col2\" >0.871754</td>\n",
       "      <td id=\"T_2a8ad_row0_col3\" class=\"data row0 col3\" >0.817941</td>\n",
       "    </tr>\n",
       "    <tr>\n",
       "      <th id=\"T_2a8ad_level0_row1\" class=\"row_heading level0 row1\" >sepal_width</th>\n",
       "      <td id=\"T_2a8ad_row1_col0\" class=\"data row1 col0\" >-0.117570</td>\n",
       "      <td id=\"T_2a8ad_row1_col1\" class=\"data row1 col1\" >1.000000</td>\n",
       "      <td id=\"T_2a8ad_row1_col2\" class=\"data row1 col2\" >-0.428440</td>\n",
       "      <td id=\"T_2a8ad_row1_col3\" class=\"data row1 col3\" >-0.366126</td>\n",
       "    </tr>\n",
       "    <tr>\n",
       "      <th id=\"T_2a8ad_level0_row2\" class=\"row_heading level0 row2\" >petal_length</th>\n",
       "      <td id=\"T_2a8ad_row2_col0\" class=\"data row2 col0\" >0.871754</td>\n",
       "      <td id=\"T_2a8ad_row2_col1\" class=\"data row2 col1\" >-0.428440</td>\n",
       "      <td id=\"T_2a8ad_row2_col2\" class=\"data row2 col2\" >1.000000</td>\n",
       "      <td id=\"T_2a8ad_row2_col3\" class=\"data row2 col3\" >0.962865</td>\n",
       "    </tr>\n",
       "    <tr>\n",
       "      <th id=\"T_2a8ad_level0_row3\" class=\"row_heading level0 row3\" >petal_width</th>\n",
       "      <td id=\"T_2a8ad_row3_col0\" class=\"data row3 col0\" >0.817941</td>\n",
       "      <td id=\"T_2a8ad_row3_col1\" class=\"data row3 col1\" >-0.366126</td>\n",
       "      <td id=\"T_2a8ad_row3_col2\" class=\"data row3 col2\" >0.962865</td>\n",
       "      <td id=\"T_2a8ad_row3_col3\" class=\"data row3 col3\" >1.000000</td>\n",
       "    </tr>\n",
       "  </tbody>\n",
       "</table>\n"
      ],
      "text/plain": [
       "<pandas.io.formats.style.Styler at 0x16c096290>"
      ]
     },
     "execution_count": 16,
     "metadata": {},
     "output_type": "execute_result"
    }
   ],
   "source": [
    "# Проверим, являются ли параметры цветков линейно зависимыми для всего датафрейма в целом\n",
    "iris_df[['sepal_length', 'sepal_width',\n",
    "         'petal_length', 'petal_width']].corr().style.map(highlight_cells)"
   ]
  },
  {
   "cell_type": "markdown",
   "id": "a5238b0c",
   "metadata": {},
   "source": [
    "Видим, исходные данные для классификации имеют сильную линейную зависимость между признаками (мультиколлинеарность), это может влиять на работу некоторых алгоритмов машинного обучения, особенно тех, которые чувствительны к этой зависимости."
   ]
  },
  {
   "cell_type": "markdown",
   "id": "d459f48b",
   "metadata": {},
   "source": [
    "# Логистическая регрессия"
   ]
  },
  {
   "cell_type": "markdown",
   "id": "81b8a462",
   "metadata": {},
   "source": [
    "В нашем случае значения всех признаков имеют схожий порядок, однако их масштабы несколько различаются. Логистическая регрессия учитывает расстояния между точками в пространстве признаков, поэтому признаки с большими абсолютными значениями могут оказывать большее влияние на результат классификации. В связи с эти на предварительном этапе мы проведем стандартизацию данных.\n",
    "\n",
    "Кроме того, у нас возникла проблема мультиколлинеарности, и логистическая регрессия чувствительна к этому фактору. Для борьбы с мультиколлинеарностью можно использовать регуляризацию, такую как Ridge (L2) или Lasso (L1), либо применять методы сокращения размерности, например, PCA. В данном случае мы выберем второй подход."
   ]
  },
  {
   "cell_type": "code",
   "execution_count": 17,
   "id": "7ca0d382",
   "metadata": {},
   "outputs": [],
   "source": [
    "# Задаем данные для моделей\n",
    "X = np.array(iris.data)\n",
    "y = np.array(iris.target)\n",
    "# Инициируем скейлер\n",
    "scaler = StandardScaler()\n",
    "# Разделяем данные на тренировочную и тестовую выборки\n",
    "X_train, X_test, y_train, y_test = train_test_split(\n",
    "    X, y, test_size=0.4, random_state=22)\n",
    "# Стандартизация тренировочных данных\n",
    "X_train_scaled = scaler.fit_transform(X_train)\n",
    "# Стандартизация тестовых данных\n",
    "X_test_scaled = scaler.transform(X_test)"
   ]
  },
  {
   "cell_type": "code",
   "execution_count": 18,
   "id": "fe2b10dc",
   "metadata": {},
   "outputs": [
    {
     "data": {
      "text/plain": [
       "<BarContainer object of 4 artists>"
      ]
     },
     "execution_count": 18,
     "metadata": {},
     "output_type": "execute_result"
    },
    {
     "data": {
      "image/png": "[encoded data removed]",
      "text/plain": [
       "<Figure size 640x480 with 1 Axes>"
      ]
     },
     "metadata": {},
     "output_type": "display_data"
    }
   ],
   "source": [
    "# Оцениваем сингулярные значения независимых компонент, чтобы понять сколько их взять в анализ\n",
    "n_columns = len(X_train_scaled[0])\n",
    "pca = PCA(n_components=n_columns)\n",
    "pca.fit(X_train_scaled)\n",
    "plt.bar(range(1, n_columns + 1), pca.singular_values_)"
   ]
  },
  {
   "cell_type": "code",
   "execution_count": 19,
   "id": "8ab8f482",
   "metadata": {},
   "outputs": [],
   "source": [
    "# Применение PCA только к тренировочным данным\n",
    "pca = PCA(n_components=2)  # Оставляем 2 главные компоненты\n",
    "X_train_pca = pca.fit_transform(X_train_scaled)\n",
    "# Применение PCA к тестовым данным\n",
    "X_test_pca = pca.transform(X_test_scaled)"
   ]
  },
  {
   "cell_type": "markdown",
   "id": "d67c401a",
   "metadata": {},
   "source": [
    "У нас ограниченное количество данных (всего несколько десятков экземпляров), поэтому для подбора оптимальной модели мы будем использовать метод бутстрэппинга. Мы будем извлекать выборки с возвращением из обучающей выборки, обучать модель на этих выборках и рассчитывать точность предсказаний на тестовых данных. В качестве итоговой модели мы возьмем модель с усредненными коэффициентами, полученными по всем итерациям, а для оценки точности будем использовать среднюю оценку за все итерации.\n",
    "измеряет общую точность модели, то есть процент правильно классифицированных объектов (как верно предсказанные положительные, так и отрицательные классы).\n",
    "Точность предсказания (Accuracy) = (TP+TN) / (TP+TN+FP+FN)\n",
    "Где:\n",
    "TP (True Positives) — истинные положительные: положительные примеры, правильно предсказанные моделью.\n",
    "TN (True Negatives) — истинные отрицательные: отрицательные примеры, правильно предсказанные моделью.\n",
    "FP (False Positives) — ложноположительные: отрицательные примеры, ошибочно предсказанные как положительные.\n",
    "FN (False Negatives) — ложноотрицательные: положительные примеры, ошибочно предсказанные как отрицательные."
   ]
  },
  {
   "cell_type": "code",
   "execution_count": 20,
   "id": "f8d28967",
   "metadata": {},
   "outputs": [
    {
     "name": "stdout",
     "output_type": "stream",
     "text": [
      "Mean Accuracy: 0.881\n",
      "Standard Deviation of Accuracy: 0.029\n",
      "Mean Coefficients:\n",
      "[[-2.43390747  0.38782221]\n",
      " [-0.04658347 -0.41950656]\n",
      " [ 2.48049094  0.03168435]]\n",
      "Mean Intercept: [-0.38664627  1.48062547 -1.0939792 ]\n"
     ]
    }
   ],
   "source": [
    "# Параметры бутстрэппинга\n",
    "n_iterations = 1000  # Количество итераций\n",
    "accuracies = []  # Список для хранения точностей\n",
    "coefficients_list = []  # Список для хранения коэффициентов\n",
    "intercepts_list = []  # Список для хранения интерсептов\n",
    "# Бутстрэппинг\n",
    "for _ in range(n_iterations):\n",
    "    # Случайная выборка с возвращением из тренировочных данных\n",
    "    indices = np.random.choice(\n",
    "        range(len(X_train_pca)), size=len(X_train_pca), replace=True)\n",
    "    X_bootstrap = X_train_pca[indices]\n",
    "    y_bootstrap = y_train[indices]\n",
    "\n",
    "    # Обучение модели\n",
    "    model = LogisticRegression(max_iter=1000)\n",
    "    model.fit(X_bootstrap, y_bootstrap)\n",
    "\n",
    "    # Оценка модели на тестовой выборке\n",
    "    y_pred = model.predict(X_test_pca)\n",
    "    accuracy = accuracy_score(y_test, y_pred)\n",
    "\n",
    "    # Сохранение точности и коэффициентов\n",
    "    accuracies.append(accuracy)\n",
    "    coefficients_list.append(model.coef_)\n",
    "\n",
    "# Добавляем проверку на NaN для интерсепта\n",
    "    if np.isnan(model.intercept_).any():\n",
    "        intercepts_list.append(np.nan)  # Сохраняем NaN, если он есть\n",
    "    else:\n",
    "        intercepts_list.append(model.intercept_)\n",
    "\n",
    "# Подсчет средней точности\n",
    "mean_accuracy = np.mean(accuracies)\n",
    "std_accuracy = np.std(accuracies)\n",
    "\n",
    "# Вычисление средних коэффициентов и интерсепта с использованием np.nanmean\n",
    "mean_coefficients = np.mean(coefficients_list, axis=0)\n",
    "# Используем nanmean для игнорирования NaN\n",
    "mean_intercept = np.nanmean(intercepts_list, axis=0)\n",
    "\n",
    "print(f\"Mean Accuracy: {mean_accuracy:.3f}\")\n",
    "print(f\"Standard Deviation of Accuracy: {std_accuracy:.3f}\")\n",
    "print(\"Mean Coefficients:\")\n",
    "print(mean_coefficients)\n",
    "print(f\"Mean Intercept: {mean_intercept}\")"
   ]
  },
  {
   "cell_type": "code",
   "execution_count": 21,
   "id": "e15e4985",
   "metadata": {},
   "outputs": [
    {
     "name": "stdout",
     "output_type": "stream",
     "text": [
      "[0 2 2 2 1 2 2 1 1 0 2 1 2 2 0 2 1 1 1 1 0 2 0 1 2 0 2 2 2 2 0 0 1 1 1 0 0\n",
      " 0 2 2 2 1 0 0 2 1 2 2 0 1 1 2 0 0 0 0 0 0 2 1]\n"
     ]
    }
   ],
   "source": [
    "# Создание итоговой модели логистической регрессии\n",
    "final_lr = LogisticRegression(multi_class='ovr', max_iter=1000)\n",
    "\n",
    "# Установка классов\n",
    "final_lr.classes_ = np.array([0, 1, 2])\n",
    "\n",
    "# Установка коэффициентов и интерсептов\n",
    "final_lr.coef_ = mean_coefficients\n",
    "final_lr.intercept_ = mean_intercept\n",
    "\n",
    "# Проверка, что все работает на тестовых данных\n",
    "final_y_pred = final_lr.predict(X_test_pca)\n",
    "print(final_y_pred)"
   ]
  },
  {
   "cell_type": "markdown",
   "id": "80c1b210",
   "metadata": {},
   "source": [
    "# Байесовский классификатор"
   ]
  },
  {
   "cell_type": "markdown",
   "id": "b4500658",
   "metadata": {},
   "source": [
    "Исходные признаки имеют схожий порядок значений, и поскольку стандартизация не является строгой необходимостью при использовании наивного байесовского классификатора, мы можем опустить этот шаг. Однако у нас остается проблема с мультиколлинеарностью. Наивный байес предполагает, что все признаки независимы. Когда признаки коррелируют, это предположение нарушается, что может ухудшить качество предсказаний.\n",
    "Мы можем использовать методы сокращения размерности, такие как PCA, которые помогут устранить мультиколлинеарность, так как главные компоненты будут ортогональными и независимыми. Либо можно применить байесовскую модель, устойчивую к корреляции, например, multivariate Gaussian Naive Bayes, которая способна работать с коррелированными признаками. Также важно отметить, что байесовский классификатор основан на предположении о том, что распределение признаков соответствует нормальному.\n",
    "Для проверки этого предположения используем критерий Шапиро-Уилка, который проверяет нулевую гипотезу о соответствии распределения данных нормальному. Если уровень значимости выше 0,05, то мы не можем отклонить нулевую гипотезу и можем констатировать, что данные имеют нормальное распределение."
   ]
  },
  {
   "cell_type": "code",
   "execution_count": 22,
   "id": "88999742",
   "metadata": {},
   "outputs": [
    {
     "name": "stdout",
     "output_type": "stream",
     "text": [
      "Распределение sepal_length у setosa соответствует нормальному\n",
      "\n",
      "Распределение sepal_width у setosa соответствует нормальному\n",
      "\n",
      "Распределение petal_length у setosa соответствует нормальному\n",
      "\n",
      "Распределение petal_width у setosa НЕ соотвествует нормальному\n",
      "\n",
      "Распределение sepal_length у versicolor соответствует нормальному\n",
      "\n",
      "Распределение sepal_width у versicolor соответствует нормальному\n",
      "\n",
      "Распределение petal_length у versicolor соответствует нормальному\n",
      "\n",
      "Распределение petal_width у versicolor НЕ соотвествует нормальному\n",
      "\n",
      "Распределение sepal_length у virginica соответствует нормальному\n",
      "\n",
      "Распределение sepal_width у virginica соответствует нормальному\n",
      "\n",
      "Распределение petal_length у virginica соответствует нормальному\n",
      "\n",
      "Распределение petal_width у virginica соответствует нормальному\n",
      "\n"
     ]
    }
   ],
   "source": [
    "classes = iris_df.class_name.unique().tolist()\n",
    "params = ['sepal_length', 'sepal_width', 'petal_length', 'petal_width']\n",
    "for cl in classes:\n",
    "    for pr in params:\n",
    "        shapiro = stats.shapiro(iris_df.query('class_name == @cl')[pr].values)\n",
    "        if shapiro.pvalue > 0.05:\n",
    "            dest = 'соответствует нормальному'\n",
    "        else:\n",
    "            dest = 'НЕ соотвествует нормальному'\n",
    "        print(f'Распределение {pr} у {cl} {dest}')\n",
    "        print()"
   ]
  },
  {
   "cell_type": "code",
   "execution_count": 23,
   "id": "e5d558e6",
   "metadata": {},
   "outputs": [
    {
     "data": {
      "text/plain": [
       "<seaborn.axisgrid.FacetGrid at 0x16c095410>"
      ]
     },
     "execution_count": 23,
     "metadata": {},
     "output_type": "execute_result"
    },
    {
     "data": {
      "image/png": "[encoded data removed]",
      "text/plain": [
       "<Figure size 500x500 with 1 Axes>"
      ]
     },
     "metadata": {},
     "output_type": "display_data"
    }
   ],
   "source": [
    "sns.displot(data=iris_df.query('class_name == \"setosa\"'), x='petal_width')"
   ]
  },
  {
   "cell_type": "code",
   "execution_count": 24,
   "id": "d494f654",
   "metadata": {},
   "outputs": [
    {
     "data": {
      "text/plain": [
       "<seaborn.axisgrid.FacetGrid at 0x16c275d10>"
      ]
     },
     "execution_count": 24,
     "metadata": {},
     "output_type": "execute_result"
    },
    {
     "data": {
      "image/png": "[encoded data removed]",
      "text/plain": [
       "<Figure size 500x500 with 1 Axes>"
      ]
     },
     "metadata": {},
     "output_type": "display_data"
    }
   ],
   "source": [
    "sns.displot(data=iris_df.query('class_name == \"versicolor\"'), x='petal_width')"
   ]
  },
  {
   "cell_type": "markdown",
   "id": "c4a9a44a",
   "metadata": {},
   "source": [
    "Большая часть исследуемых признаков имеет нормальное распределение. Распределение двух признаков - ширины лепестков у setosa и versicolor - отличается от нормального. Но поскольку он в прнципе куполообразной формы, то будем считать что в этом случае возможно использовать байесовские методы классификации"
   ]
  },
  {
   "cell_type": "code",
   "execution_count": 25,
   "id": "31124a3a",
   "metadata": {},
   "outputs": [
    {
     "name": "stdout",
     "output_type": "stream",
     "text": [
      "точность байесовского классификатора 96.67\n"
     ]
    }
   ],
   "source": [
    "# Инициируем и обучаем наивный байесовский класификатор на тестовой выборке\n",
    "gnb = GaussianNB()\n",
    "gnb.fit(X_train, y_train)\n",
    "# с помощью байесовского классификатора прогнозирум к какому классу относится цветок\n",
    "y_pred_gnb = gnb.predict(X_test)\n",
    "# Оцениваем точность классификации\n",
    "accuracy_gnb = round((accuracy_score(y_test, y_pred_gnb) * 100), 2)\n",
    "print(f'точность байесовского классификатора {accuracy_gnb }')"
   ]
  },
  {
   "cell_type": "markdown",
   "id": "29e3be6e",
   "metadata": {},
   "source": [
    "# Случайный лес"
   ]
  },
  {
   "cell_type": "markdown",
   "id": "8da713ce",
   "metadata": {},
   "source": [
    "Шкала признаков не влияет на процесс принятия решений в случае случайного леса, поскольку он основан на деревьях решений, которые делят пространство признаков на регионы на основе пороговых значений. Поэтому стандартизация данных не является необходимостью. Кроме того, случайный лес менее чувствителен к мультиколлинеарности, так как строит множество деревьев на случайных подмножествах признаков. Влияние коррелированных признаков уменьшается благодаря случайной выборке признаков на каждом этапе построения деревьев.\n",
    "\n",
    "Определение параметров случайного леса — ключевой шаг для получения оптимальной модели, которая будет демонстрировать высокие результаты на тестовых данных. Существует несколько параметров, влияющих на производительность и точность модели случайного леса, такие как количество деревьев, глубина деревьев и минимальное количество образцов для разбиения. Для подбора параметров будем использовать метод поиска по сетке (GridSearchCV), который позволяет автоматически находить наилучшие параметры через исчерпывающий поиск по всем возможным комбинациям указанных параметров."
   ]
  },
  {
   "cell_type": "code",
   "execution_count": 26,
   "id": "37b1177e",
   "metadata": {},
   "outputs": [
    {
     "name": "stdout",
     "output_type": "stream",
     "text": [
      "Fitting 3 folds for each of 32 candidates, totalling 96 fits\n"
     ]
    },
    {
     "data": {
      "text/plain": [
       "{'max_depth': 10,\n",
       " 'max_features': 'sqrt',\n",
       " 'min_samples_leaf': 4,\n",
       " 'min_samples_split': 10,\n",
       " 'n_estimators': 100}"
      ]
     },
     "execution_count": 26,
     "metadata": {},
     "output_type": "execute_result"
    }
   ],
   "source": [
    "# Инициируем случайный лес\n",
    "random_forest = RandomForestClassifier()\n",
    "\n",
    "# Параметры, из которых будем выбирать\n",
    "param_grid = {\n",
    "    'n_estimators': [100, 200],\n",
    "    'max_depth': [10, 50],\n",
    "    'min_samples_split': [2, 10],\n",
    "    'min_samples_leaf': [1, 4],\n",
    "    'max_features': ['sqrt', 'log2']\n",
    "}\n",
    "\n",
    "# Подбираем оптимальные параметры\n",
    "grid_search = GridSearchCV(estimator=random_forest,\n",
    "                           param_grid=param_grid, cv=3, n_jobs=-1, verbose=2)\n",
    "grid_search.fit(X_train, y_train)\n",
    "\n",
    "# Используем найденные параметры\n",
    "best_params = grid_search.best_params_\n",
    "best_params"
   ]
  },
  {
   "cell_type": "code",
   "execution_count": 27,
   "id": "9e439a25",
   "metadata": {},
   "outputs": [
    {
     "name": "stdout",
     "output_type": "stream",
     "text": [
      "точность случайного леса 96.67\n"
     ]
    }
   ],
   "source": [
    "# Инициируем модель случайного леса с оптимальными параметрами\n",
    "final_rf = RandomForestClassifier(\n",
    "    n_estimators=best_params['n_estimators'],\n",
    "    max_depth=best_params['max_depth'],\n",
    "    min_samples_split=best_params['min_samples_split'],\n",
    "    min_samples_leaf=best_params['min_samples_leaf'],\n",
    "    max_features=best_params['max_features'],\n",
    "    random_state=42\n",
    ")\n",
    "\n",
    "# Обучаем модель на тренировочных данных\n",
    "final_rf.fit(X_train, y_train)\n",
    "\n",
    "# Предсказание на тестовых данных\n",
    "y_pred_rf = final_rf.predict(X_test)\n",
    "\n",
    "# Расчитаем метрику точности\n",
    "accuracy_rf = round((accuracy_score(y_test, y_pred_rf)) * 100, 2)\n",
    "print(f'точность случайного леса {accuracy_rf}')"
   ]
  },
  {
   "cell_type": "markdown",
   "id": "86c602fb",
   "metadata": {},
   "source": [
    "# Вывод"
   ]
  },
  {
   "cell_type": "markdown",
   "id": "5d893023",
   "metadata": {},
   "source": [
    "Байесовский классификатор и случайный лес демонстрируют более высокую точность классификации ирисов на три класса по сравнению с логистической регрессией. При этом байесовский классификатор основывается на фиксированных предположениях о распределении данных, что упрощает его применение. В то же время случайный лес требует настройки и обширного поиска по сетке параметров для оптимизации производительности, что является ресурсозатратной процедурой."
   ]
  }
 ],
 "metadata": {
  "kernelspec": {
   "display_name": "Python 3 (ipykernel)",
   "language": "python",
   "name": "python3"
  },
  "language_info": {
   "codemirror_mode": {
    "name": "ipython",
    "version": 3
   },
   "file_extension": ".py",
   "mimetype": "text/x-python",
   "name": "python",
   "nbconvert_exporter": "python",
   "pygments_lexer": "ipython3",
   "version": "3.11.5"
  }
 },
 "nbformat": 4,
 "nbformat_minor": 5
}
